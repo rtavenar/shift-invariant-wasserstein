{
 "cells": [
  {
   "cell_type": "markdown",
   "metadata": {},
   "source": [
    "# Shift-invariant Wasserstein between diracs in 1D\n",
    "\n",
    "The problem formulation is as follows:\n",
    "\n",
    "Given two distributions of diracs in 1D $X$ and $Y$, compute:\n",
    "\n",
    "$$\\min_{\\delta \\in \\mathbb{R}} W_2^2(X, Y_\\delta)$$\n",
    "\n",
    "where $W_2^2$ is the squared Wasserstein distance and $Y_\\delta$ is the distribution $Y$ in which each dirac is shifted by $\\delta$."
   ]
  },
  {
   "cell_type": "code",
   "execution_count": 1,
   "metadata": {},
   "outputs": [
    {
     "name": "stdout",
     "output_type": "stream",
     "text": [
      "[[0.25 0.   0.   0.  ]\n",
      " [0.   0.25 0.   0.  ]\n",
      " [0.   0.   0.25 0.  ]\n",
      " [0.   0.   0.   0.25]]\n",
      "15.0625\n"
     ]
    }
   ],
   "source": [
    "import ot\n",
    "import numpy as np\n",
    "\n",
    "X = np.array([0., 2., 3., 5.])\n",
    "Y = np.array([4., 6., 7., 8.5])\n",
    "\n",
    "pi, log = ot.emd_1d(X, Y, log=True)\n",
    "print(pi)\n",
    "print(log[\"cost\"])"
   ]
  },
  {
   "cell_type": "markdown",
   "metadata": {},
   "source": [
    "One should notice that, knowing that there exists one solution to the Wasserstein problem in 1d which consists in simply ranking the diracs in each distributions and then matching them in order, and observing that a translation of $\\delta$ of all diracs in $Y$ do not change the order of the diracs in $Y$, one can say that the mapping $\\pi$ that corresponds to such a solution of the Wasserstein problem between $X$ and $Y$ is also a solution to the Wasserstein problem between $X$ and $Y_\\delta$ for any $\\delta$.\n",
    "\n",
    "If we denote this mapping by $\\pi$, one can show that:\n",
    "\n",
    "$$W_2^2(X, Y_\\delta) = \\delta^2 + \\delta \\left[\\sum_{ij} 2 (y_j - x_i) \\pi_{ij}\\right] + W_2^2(X, Y)$$\n",
    "\n",
    "This quantity is minimized at $\\delta^\\star = \\sum_{ij} (x_i - y_j) \\pi_{ij}$ and $W_2^2(X, Y_{\\delta^\\star}) = W_2^2(X, Y) - (\\delta^\\star)^2$, as illustrated below."
   ]
  },
  {
   "cell_type": "code",
   "execution_count": 2,
   "metadata": {},
   "outputs": [],
   "source": [
    "deltas = np.linspace(-10, 0, 100)\n",
    "costs = [ot.emd_1d(X, Y + d, log=True)[1][\"cost\"] for d in deltas]\n",
    "\n",
    "delta_star = np.sum((X[:, None] - Y[None, :]) * pi)\n",
    "optimal_cost = log[\"cost\"] - delta_star ** 2"
   ]
  },
  {
   "cell_type": "code",
   "execution_count": 3,
   "metadata": {},
   "outputs": [
    {
     "data": {
      "image/png": "[encoded data removed]",
      "text/plain": [
       "<Figure size 432x288 with 1 Axes>"
      ]
     },
     "metadata": {
      "needs_background": "light"
     },
     "output_type": "display_data"
    }
   ],
   "source": [
    "import matplotlib.pyplot as plt\n",
    "\n",
    "plt.axvline(x=delta_star, color='r', linestyle='--', label=\"$\\delta^\\star$\")\n",
    "plt.axhline(y=optimal_cost, color='k', linestyle='--')\n",
    "plt.plot(deltas, costs)\n",
    "plt.xlabel(\"$\\delta$\")\n",
    "plt.ylabel(\"Transportation cost\")\n",
    "plt.legend();"
   ]
  },
  {
   "cell_type": "code",
   "execution_count": 4,
   "metadata": {},
   "outputs": [
    {
     "data": {
      "image/png": "[encoded data removed]",
      "text/plain": [
       "<Figure size 432x288 with 3 Axes>"
      ]
     },
     "metadata": {
      "needs_background": "light"
     },
     "output_type": "display_data"
    }
   ],
   "source": [
    "def format_diracs(positions, x_grid):\n",
    "    y_grid = np.zeros(x_grid.shape)\n",
    "    for xi in positions:\n",
    "        idx = np.argmin(np.abs(x_grid - xi))\n",
    "        y_grid[idx] = 1.\n",
    "    return y_grid\n",
    "\n",
    "x_grid = np.linspace(-1, 10, 100)\n",
    "\n",
    "# X\n",
    "plt.subplot(3, 1, 1)\n",
    "plt.plot(x_grid, format_diracs(X, x_grid))\n",
    "plt.title(\"$X$\")\n",
    "\n",
    "# Y\n",
    "plt.subplot(3, 1, 3)\n",
    "plt.plot(x_grid, format_diracs(Y, x_grid), color=\"orange\")\n",
    "plt.title(\"$Y$\")\n",
    "\n",
    "# Y+delta*\n",
    "plt.subplot(3, 1, 2)\n",
    "plt.plot(x_grid, format_diracs(Y+delta_star, x_grid), color=\"orange\")\n",
    "plt.title(\"$Y_{\\delta^\\star}$\")\n",
    "\n",
    "plt.tight_layout()"
   ]
  }
 ],
 "metadata": {
  "kernelspec": {
   "display_name": "Python 3.8.9 64-bit",
   "language": "python",
   "name": "python3"
  },
  "language_info": {
   "codemirror_mode": {
    "name": "ipython",
    "version": 3
   },
   "file_extension": ".py",
   "mimetype": "text/x-python",
   "name": "python",
   "nbconvert_exporter": "python",
   "pygments_lexer": "ipython3",
   "version": "3.8.9"
  },
  "orig_nbformat": 4,
  "vscode": {
   "interpreter": {
    "hash": "25f9a3951446179f6c2016b22a60b44495fe90f43bda7f3caedfe2c1a9cd31f9"
   }
  }
 },
 "nbformat": 4,
 "nbformat_minor": 2
}
